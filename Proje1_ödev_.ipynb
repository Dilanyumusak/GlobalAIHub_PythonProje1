{
  "nbformat": 4,
  "nbformat_minor": 0,
  "metadata": {
    "colab": {
      "name": "Proje1 ödev .ipynb",
      "provenance": [],
      "collapsed_sections": [],
      "include_colab_link": true
    },
    "kernelspec": {
      "name": "python3",
      "display_name": "Python 3"
    },
    "language_info": {
      "name": "python"
    }
  },
  "cells": [
    {
      "cell_type": "markdown",
      "metadata": {
        "id": "view-in-github",
        "colab_type": "text"
      },
      "source": [
        "<a href=\"https://colab.research.google.com/github/Dilanyumusak/GlobalAIHub_PythonProje1/blob/main/Proje1_%C3%B6dev_.ipynb\" target=\"_parent\"><img src=\"https://colab.research.google.com/assets/colab-badge.svg\" alt=\"Open In Colab\"/></a>"
      ]
    },
    {
      "cell_type": "markdown",
      "source": [
        "# **Proje 1**\n",
        "\n",
        "1. Bu projede bir öğrenci not sistemi oluşturacaksınız. Sizden istenilenler:\n",
        "\n",
        "2. Kendinize bir ders belirleyiniz. (Matematik,Fizik, Lineer Cebir vb.)\n",
        "\n",
        "3. Not aralığınızı oluşturunuz (100-80 ⇒ A, 79-70 ⇒ B vb.)\n",
        "\n",
        "4. Öğrenci Bilgilerini (Ad, Soyad, Okul No, sınav puanı) girebileceğiniz ve bu bilgilerin tutulabileceği bir sistem oluşturunuz.\n",
        "\n",
        "5. Girilen bilgilerden yola çıkarak öğrencinin dersi geçip geçmediğini göstermesi gerekmektedir.\n",
        "\n",
        "6. Öğrenci dersi geçti ise öğrencinin bilgilerinin tutulduğu alana “Geçti” yazısı, \n",
        "\n",
        "7. öğrenci dersi geçemedi ise “kaldı” yazısını göstermesi gerekmektedir.\n",
        "\n",
        "8. Notları girilen öğrencilerden dersi geçenleri ve geçmeyenleri gösteren bir \n",
        "Dataframe oluşturunuz. \n",
        "\n",
        "10. Oluşturulan Dataframe’i Excel tablosuna dönüştürünüz.\n",
        "\n"
      ],
      "metadata": {
        "id": "WewP7vxbIPiI"
      }
    },
    {
      "cell_type": "code",
      "source": [
        "import numpy as np\n",
        "import pandas as pd"
      ],
      "metadata": {
        "id": "y-JuaFFBl5Xc"
      },
      "execution_count": null,
      "outputs": []
    },
    {
      "cell_type": "code",
      "execution_count": null,
      "metadata": {
        "colab": {
          "base_uri": "https://localhost:8080/"
        },
        "id": "yScDPD6Nf363",
        "outputId": "db63cf1b-ed91-4de6-d520-7e6672cc0321"
      },
      "outputs": [
        {
          "output_type": "stream",
          "name": "stdout",
          "text": [
            "Öğrencinin Adı = Dilan\n",
            "Öğrencinin Soyadı = tyu\n",
            "Öğrenci Okul No = 32\n",
            "Öğrenci notu = 67\n",
            "C\n",
            "GEÇTİ\n",
            "Öğrencinin Adı = Merve\n",
            "Öğrencinin Soyadı = asdfg\n",
            "Öğrenci Okul No = 32\n",
            "Öğrenci notu = 89\n",
            "A\n",
            "GEÇTİ\n"
          ]
        }
      ],
      "source": [
        "Ad= []\n",
        "Soyad = []\n",
        "okul_no = []\n",
        "sınav_notu = [] \n",
        "harf_notu = []\n",
        "z= []\n",
        "for i in range(1,3):\n",
        " ogrenci_ad = input(\"Öğrencinin Adı = \")\n",
        " ogrenci_soyad = input(\"Öğrencinin Soyadı = \")\n",
        " ogrenci_okul_no = input(\"Öğrenci Okul No = \")\n",
        " ogrenci_notu = int(input(\"Öğrenci notu = \"))\n",
        " if ogrenci_notu<100 and ogrenci_notu>=85:\n",
        "  Ad += [ogrenci_ad]\n",
        "  Soyad += [ogrenci_soyad]\n",
        "  okul_no += [ogrenci_okul_no]\n",
        "  sınav_notu += [ogrenci_notu]\n",
        "  harf_notu += 'A'\n",
        "  print('A')\n",
        "  z +=  'GEÇTİ' ## tekrar bak buraya \n",
        "  print('GEÇTİ')\n",
        " elif ogrenci_notu<85 and ogrenci_notu>=70:\n",
        "  Ad += [ogrenci_ad]\n",
        "  Soyad += [ogrenci_soyad]\n",
        "  okul_no += [ogrenci_okul_no]\n",
        "  sınav_notu += [ogrenci_notu]\n",
        "  print('B')\n",
        "  print('GEÇTİ')\n",
        " elif ogrenci_notu<70 and ogrenci_notu>=60:\n",
        "  Ad += [ogrenci_ad]\n",
        "  Soyad += [ogrenci_soyad]\n",
        "  okul_no += [ogrenci_okul_no]\n",
        "  sınav_notu += [ogrenci_notu]\n",
        "  print('C')\n",
        "  print('GEÇTİ')\n",
        " elif ogrenci_notu<60 and ogrenci_notu>=50:\n",
        "  Ad += [ogrenci_ad]\n",
        "  Soyad += [ogrenci_soyad]\n",
        "  okul_no += [ogrenci_okul_no]\n",
        "  sınav_notu += [ogrenci_notu]\n",
        "  print('D')\n",
        "  print('GEÇTİ')\n",
        " else:\n",
        "  Ad += [ogrenci_ad]\n",
        "  Soyad += [ogrenci_soyad]\n",
        "  okul_no += [ogrenci_okul_no]\n",
        "  sınav_notu += [ogrenci_notu]\n",
        "  print('F')\n",
        "  print('KALDI')\n"
      ]
    },
    {
      "cell_type": "code",
      "source": [
        "type(Ad)"
      ],
      "metadata": {
        "colab": {
          "base_uri": "https://localhost:8080/"
        },
        "id": "IMrA33narnLF",
        "outputId": "8c9746f9-b776-4ce5-c841-1e276d7aa8eb"
      },
      "execution_count": null,
      "outputs": [
        {
          "output_type": "execute_result",
          "data": {
            "text/plain": [
              "list"
            ]
          },
          "metadata": {},
          "execution_count": 3
        }
      ]
    },
    {
      "cell_type": "code",
      "source": [
        "z"
      ],
      "metadata": {
        "colab": {
          "base_uri": "https://localhost:8080/"
        },
        "id": "M5QZeUpdA4N_",
        "outputId": "90c97215-4b58-43e9-a447-f2a96b084f78"
      },
      "execution_count": null,
      "outputs": [
        {
          "output_type": "execute_result",
          "data": {
            "text/plain": [
              "[]"
            ]
          },
          "metadata": {},
          "execution_count": 94
        }
      ]
    },
    {
      "cell_type": "code",
      "source": [
        "asd =[Ad, Soyad, okul_no, sınav_notu,harf_notu]"
      ],
      "metadata": {
        "id": "ErJQmdDq7URF"
      },
      "execution_count": null,
      "outputs": []
    },
    {
      "cell_type": "code",
      "source": [
        "asd"
      ],
      "metadata": {
        "colab": {
          "base_uri": "https://localhost:8080/"
        },
        "id": "wCs9EF0v8ClF",
        "outputId": "b3e080dd-5bea-4565-83d0-f0965847a2b9"
      },
      "execution_count": null,
      "outputs": [
        {
          "output_type": "execute_result",
          "data": {
            "text/plain": [
              "[['Dilan', 'Merve'], ['tyu', 'asdfg'], ['32', '32'], [67, 89], ['A']]"
            ]
          },
          "metadata": {},
          "execution_count": 5
        }
      ]
    },
    {
      "cell_type": "code",
      "source": [
        "import pandas as pd"
      ],
      "metadata": {
        "id": "GtSWBjs3Bsw0"
      },
      "execution_count": null,
      "outputs": []
    },
    {
      "cell_type": "code",
      "source": [
        "df=pd.DataFrame(data= asd, columns=['Adi','soyadı'])"
      ],
      "metadata": {
        "colab": {
          "base_uri": "https://localhost:8080/",
          "height": 165
        },
        "id": "kGy1yc3q84T-",
        "outputId": "deb403f3-715e-4cb5-e4c3-6ca1a3e86653"
      },
      "execution_count": null,
      "outputs": [
        {
          "output_type": "error",
          "ename": "TypeError",
          "evalue": "ignored",
          "traceback": [
            "\u001b[0;31m---------------------------------------------------------------------------\u001b[0m",
            "\u001b[0;31mTypeError\u001b[0m                                 Traceback (most recent call last)",
            "\u001b[0;32m<ipython-input-10-64fc13be39ba>\u001b[0m in \u001b[0;36m<module>\u001b[0;34m()\u001b[0m\n\u001b[0;32m----> 1\u001b[0;31m \u001b[0mdf\u001b[0m\u001b[0;34m=\u001b[0m\u001b[0mpd\u001b[0m\u001b[0;34m.\u001b[0m\u001b[0mDataFrame\u001b[0m\u001b[0;34m(\u001b[0m\u001b[0mdata\u001b[0m\u001b[0;34m=\u001b[0m \u001b[0masd\u001b[0m\u001b[0;34m,\u001b[0m \u001b[0mrows\u001b[0m\u001b[0;34m=\u001b[0m\u001b[0;34m[\u001b[0m\u001b[0;34m'Adi'\u001b[0m\u001b[0;34m,\u001b[0m\u001b[0;34m'soyadı'\u001b[0m\u001b[0;34m]\u001b[0m\u001b[0;34m)\u001b[0m\u001b[0;34m\u001b[0m\u001b[0;34m\u001b[0m\u001b[0m\n\u001b[0m",
            "\u001b[0;31mTypeError\u001b[0m: __init__() got an unexpected keyword argument 'rows'"
          ]
        }
      ]
    },
    {
      "cell_type": "code",
      "source": [
        ""
      ],
      "metadata": {
        "id": "-vBjFo_Fg4XG"
      },
      "execution_count": null,
      "outputs": []
    },
    {
      "cell_type": "code",
      "source": [
        "df"
      ],
      "metadata": {
        "colab": {
          "base_uri": "https://localhost:8080/",
          "height": 206
        },
        "id": "7bs3ayDR9FSH",
        "outputId": "302408ac-99ea-48de-c3ee-1567f6defa03"
      },
      "execution_count": null,
      "outputs": [
        {
          "output_type": "execute_result",
          "data": {
            "text/plain": [
              "     Adi soyadı\n",
              "0  Dilan  Merve\n",
              "1    tyu  asdfg\n",
              "2     32     32\n",
              "3     67     89\n",
              "4      A   None"
            ],
            "text/html": [
              "\n",
              "  <div id=\"df-fbb2d92c-318e-48c6-8a36-4ec995c6600c\">\n",
              "    <div class=\"colab-df-container\">\n",
              "      <div>\n",
              "<style scoped>\n",
              "    .dataframe tbody tr th:only-of-type {\n",
              "        vertical-align: middle;\n",
              "    }\n",
              "\n",
              "    .dataframe tbody tr th {\n",
              "        vertical-align: top;\n",
              "    }\n",
              "\n",
              "    .dataframe thead th {\n",
              "        text-align: right;\n",
              "    }\n",
              "</style>\n",
              "<table border=\"1\" class=\"dataframe\">\n",
              "  <thead>\n",
              "    <tr style=\"text-align: right;\">\n",
              "      <th></th>\n",
              "      <th>Adi</th>\n",
              "      <th>soyadı</th>\n",
              "    </tr>\n",
              "  </thead>\n",
              "  <tbody>\n",
              "    <tr>\n",
              "      <th>0</th>\n",
              "      <td>Dilan</td>\n",
              "      <td>Merve</td>\n",
              "    </tr>\n",
              "    <tr>\n",
              "      <th>1</th>\n",
              "      <td>tyu</td>\n",
              "      <td>asdfg</td>\n",
              "    </tr>\n",
              "    <tr>\n",
              "      <th>2</th>\n",
              "      <td>32</td>\n",
              "      <td>32</td>\n",
              "    </tr>\n",
              "    <tr>\n",
              "      <th>3</th>\n",
              "      <td>67</td>\n",
              "      <td>89</td>\n",
              "    </tr>\n",
              "    <tr>\n",
              "      <th>4</th>\n",
              "      <td>A</td>\n",
              "      <td>None</td>\n",
              "    </tr>\n",
              "  </tbody>\n",
              "</table>\n",
              "</div>\n",
              "      <button class=\"colab-df-convert\" onclick=\"convertToInteractive('df-fbb2d92c-318e-48c6-8a36-4ec995c6600c')\"\n",
              "              title=\"Convert this dataframe to an interactive table.\"\n",
              "              style=\"display:none;\">\n",
              "        \n",
              "  <svg xmlns=\"http://www.w3.org/2000/svg\" height=\"24px\"viewBox=\"0 0 24 24\"\n",
              "       width=\"24px\">\n",
              "    <path d=\"M0 0h24v24H0V0z\" fill=\"none\"/>\n",
              "    <path d=\"M18.56 5.44l.94 2.06.94-2.06 2.06-.94-2.06-.94-.94-2.06-.94 2.06-2.06.94zm-11 1L8.5 8.5l.94-2.06 2.06-.94-2.06-.94L8.5 2.5l-.94 2.06-2.06.94zm10 10l.94 2.06.94-2.06 2.06-.94-2.06-.94-.94-2.06-.94 2.06-2.06.94z\"/><path d=\"M17.41 7.96l-1.37-1.37c-.4-.4-.92-.59-1.43-.59-.52 0-1.04.2-1.43.59L10.3 9.45l-7.72 7.72c-.78.78-.78 2.05 0 2.83L4 21.41c.39.39.9.59 1.41.59.51 0 1.02-.2 1.41-.59l7.78-7.78 2.81-2.81c.8-.78.8-2.07 0-2.86zM5.41 20L4 18.59l7.72-7.72 1.47 1.35L5.41 20z\"/>\n",
              "  </svg>\n",
              "      </button>\n",
              "      \n",
              "  <style>\n",
              "    .colab-df-container {\n",
              "      display:flex;\n",
              "      flex-wrap:wrap;\n",
              "      gap: 12px;\n",
              "    }\n",
              "\n",
              "    .colab-df-convert {\n",
              "      background-color: #E8F0FE;\n",
              "      border: none;\n",
              "      border-radius: 50%;\n",
              "      cursor: pointer;\n",
              "      display: none;\n",
              "      fill: #1967D2;\n",
              "      height: 32px;\n",
              "      padding: 0 0 0 0;\n",
              "      width: 32px;\n",
              "    }\n",
              "\n",
              "    .colab-df-convert:hover {\n",
              "      background-color: #E2EBFA;\n",
              "      box-shadow: 0px 1px 2px rgba(60, 64, 67, 0.3), 0px 1px 3px 1px rgba(60, 64, 67, 0.15);\n",
              "      fill: #174EA6;\n",
              "    }\n",
              "\n",
              "    [theme=dark] .colab-df-convert {\n",
              "      background-color: #3B4455;\n",
              "      fill: #D2E3FC;\n",
              "    }\n",
              "\n",
              "    [theme=dark] .colab-df-convert:hover {\n",
              "      background-color: #434B5C;\n",
              "      box-shadow: 0px 1px 3px 1px rgba(0, 0, 0, 0.15);\n",
              "      filter: drop-shadow(0px 1px 2px rgba(0, 0, 0, 0.3));\n",
              "      fill: #FFFFFF;\n",
              "    }\n",
              "  </style>\n",
              "\n",
              "      <script>\n",
              "        const buttonEl =\n",
              "          document.querySelector('#df-fbb2d92c-318e-48c6-8a36-4ec995c6600c button.colab-df-convert');\n",
              "        buttonEl.style.display =\n",
              "          google.colab.kernel.accessAllowed ? 'block' : 'none';\n",
              "\n",
              "        async function convertToInteractive(key) {\n",
              "          const element = document.querySelector('#df-fbb2d92c-318e-48c6-8a36-4ec995c6600c');\n",
              "          const dataTable =\n",
              "            await google.colab.kernel.invokeFunction('convertToInteractive',\n",
              "                                                     [key], {});\n",
              "          if (!dataTable) return;\n",
              "\n",
              "          const docLinkHtml = 'Like what you see? Visit the ' +\n",
              "            '<a target=\"_blank\" href=https://colab.research.google.com/notebooks/data_table.ipynb>data table notebook</a>'\n",
              "            + ' to learn more about interactive tables.';\n",
              "          element.innerHTML = '';\n",
              "          dataTable['output_type'] = 'display_data';\n",
              "          await google.colab.output.renderOutput(dataTable, element);\n",
              "          const docLink = document.createElement('div');\n",
              "          docLink.innerHTML = docLinkHtml;\n",
              "          element.appendChild(docLink);\n",
              "        }\n",
              "      </script>\n",
              "    </div>\n",
              "  </div>\n",
              "  "
            ]
          },
          "metadata": {},
          "execution_count": 9
        }
      ]
    },
    {
      "cell_type": "code",
      "source": [
        "type(df)"
      ],
      "metadata": {
        "colab": {
          "base_uri": "https://localhost:8080/"
        },
        "id": "fI934rB-B2zH",
        "outputId": "459a8744-2bcc-440f-fd4e-1cae95537e30"
      },
      "execution_count": null,
      "outputs": [
        {
          "output_type": "execute_result",
          "data": {
            "text/plain": [
              "pandas.core.frame.DataFrame"
            ]
          },
          "metadata": {},
          "execution_count": 54
        }
      ]
    },
    {
      "cell_type": "code",
      "source": [
        "type(Ad)"
      ],
      "metadata": {
        "colab": {
          "base_uri": "https://localhost:8080/"
        },
        "id": "k-mKtQroGuVV",
        "outputId": "052b966b-8cab-4210-e63d-db69e8e1215d"
      },
      "execution_count": null,
      "outputs": [
        {
          "output_type": "execute_result",
          "data": {
            "text/plain": [
              "list"
            ]
          },
          "metadata": {},
          "execution_count": 55
        }
      ]
    },
    {
      "cell_type": "code",
      "source": [
        ""
      ],
      "metadata": {
        "id": "dK5VHnuGLwYc"
      },
      "execution_count": null,
      "outputs": []
    },
    {
      "cell_type": "code",
      "source": [
        ""
      ],
      "metadata": {
        "id": "dj9fTnEjyYNn"
      },
      "execution_count": null,
      "outputs": []
    },
    {
      "cell_type": "code",
      "source": [
        ""
      ],
      "metadata": {
        "id": "X6IZuEOQl5aY"
      },
      "execution_count": null,
      "outputs": []
    },
    {
      "cell_type": "code",
      "source": [
        ""
      ],
      "metadata": {
        "id": "_-CK2sUAnLr4"
      },
      "execution_count": null,
      "outputs": []
    },
    {
      "cell_type": "code",
      "source": [
        ""
      ],
      "metadata": {
        "id": "uiHj8DjSA038"
      },
      "execution_count": null,
      "outputs": []
    },
    {
      "cell_type": "code",
      "source": [
        ""
      ],
      "metadata": {
        "id": "-ccLcSvUGwOT"
      },
      "execution_count": null,
      "outputs": []
    }
  ]
}